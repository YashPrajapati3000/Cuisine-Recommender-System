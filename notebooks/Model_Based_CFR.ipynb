{
 "cells": [
  {
   "cell_type": "markdown",
   "id": "55e51b4d-b854-41b5-a0df-cb927951afb0",
   "metadata": {},
   "source": [
    "# User-Based Collaborative Filtering Recommender System"
   ]
  },
  {
   "cell_type": "markdown",
   "id": "0013244e-1493-4575-ac34-0209f0d97455",
   "metadata": {},
   "source": [
    "### Loading Necessary Libraries"
   ]
  },
  {
   "cell_type": "code",
   "execution_count": 1,
   "id": "e222978d-873a-44ee-af51-b759bd6afb50",
   "metadata": {},
   "outputs": [],
   "source": [
    "# Necessary Libraries\n",
    "import pandas as pd\n",
    "import numpy as np\n",
    "from sklearn.model_selection import train_test_split\n",
    "from sklearn.preprocessing import MinMaxScaler\n",
    "from scipy.sparse import csr_matrix\n",
    "from sklearn.decomposition import TruncatedSVD\n",
    "from scipy.sparse.linalg import svds\n",
    "from sklearn.metrics import mean_squared_error, mean_absolute_error\n",
    "from math import sqrt\n",
    "import matplotlib.pyplot as plt"
   ]
  },
  {
   "cell_type": "markdown",
   "id": "91226a39-cbb6-4afb-b89b-da7fda693037",
   "metadata": {},
   "source": [
    "### Loading the Datasets"
   ]
  },
  {
   "cell_type": "code",
   "execution_count": 2,
   "id": "f3d786b4-e368-420a-8bd9-2c582d72b57e",
   "metadata": {},
   "outputs": [],
   "source": [
    "# Loading the cuisine info dataset\n",
    "cuisine_data = pd.read_csv('../data/ingredients.csv')\n",
    "\n",
    "# Loading the ratings dataset\n",
    "ratings_data = pd.read_csv(\"../data/ratings.csv\")"
   ]
  },
  {
   "cell_type": "markdown",
   "id": "5ff7e222-835c-41d2-8c6f-697e2ddf76ad",
   "metadata": {},
   "source": [
    "### Data Preprocessing"
   ]
  },
  {
   "cell_type": "code",
   "execution_count": 3,
   "id": "9a5f3830-e943-4c87-a9e4-c4825e93f807",
   "metadata": {},
   "outputs": [],
   "source": [
    "# Converting 'User_ID' and 'Food_ID' from float to int in ratings.csv after checking for NaNs\n",
    "ratings_data.dropna(subset=['User_ID', 'Food_ID', 'Rating'], inplace=True) \n",
    "ratings_data['User_ID'] = ratings_data['User_ID'].astype(int)\n",
    "ratings_data['Food_ID'] = ratings_data['Food_ID'].astype(int)"
   ]
  },
  {
   "cell_type": "markdown",
   "id": "bc86da73-1222-4f18-8080-f0d6d46db6fa",
   "metadata": {},
   "source": [
    "This data preprocessing ensures consistency and integrity of the data before creating the User-Based Collaborative Filtering model. It initially removes rows with NaN values in User_ID, Food_ID, or Rating because missing values may cause errors or wrong calculations during matrix-based operations. "
   ]
  },
  {
   "cell_type": "code",
   "execution_count": 4,
   "id": "4e730cc9-ed40-4ce0-9268-4b9a17698835",
   "metadata": {},
   "outputs": [],
   "source": [
    "# Checking and removing duplicate entries in both datasets\n",
    "ratings_data = ratings_data.drop_duplicates(subset = ['User_ID','Food_ID'])\n",
    "cuisine_data = cuisine_data.drop_duplicates()"
   ]
  },
  {
   "cell_type": "markdown",
   "id": "b47d3e09-b023-43a7-bde6-c6bda345791e",
   "metadata": {},
   "source": [
    "It then changes User_ID and Food_ID into integer data type from float so that it possesses consistent data types that are critical for indexing as well as successfully performing matrix operations. It also removes duplicate entries in ratings_data so that it contains only one pair of User_ID and Food_ID so that unnecessary data does not skew the model's computation. "
   ]
  },
  {
   "cell_type": "code",
   "execution_count": 5,
   "id": "97f4413e-10be-4e53-b5ed-842c4d27f9a6",
   "metadata": {},
   "outputs": [
    {
     "name": "stdout",
     "output_type": "stream",
     "text": [
      "All Food_IDs in ratings are consistent with the cuisine dataset.\n",
      "<class 'pandas.core.frame.DataFrame'>\n",
      "Index: 508 entries, 0 to 510\n",
      "Data columns (total 3 columns):\n",
      " #   Column   Non-Null Count  Dtype\n",
      "---  ------   --------------  -----\n",
      " 0   User_ID  508 non-null    int64\n",
      " 1   Food_ID  508 non-null    int64\n",
      " 2   Rating   508 non-null    int64\n",
      "dtypes: int64(3)\n",
      "memory usage: 15.9 KB\n",
      "None\n",
      "<class 'pandas.core.frame.DataFrame'>\n",
      "RangeIndex: 400 entries, 0 to 399\n",
      "Data columns (total 5 columns):\n",
      " #   Column    Non-Null Count  Dtype \n",
      "---  ------    --------------  ----- \n",
      " 0   Food_ID   400 non-null    int64 \n",
      " 1   Name      400 non-null    object\n",
      " 2   C_Type    400 non-null    object\n",
      " 3   Veg_Non   400 non-null    object\n",
      " 4   Describe  400 non-null    object\n",
      "dtypes: int64(1), object(4)\n",
      "memory usage: 15.8+ KB\n",
      "None\n"
     ]
    }
   ],
   "source": [
    "# Ensuring that all Food_IDs in ratings_data are present in cuisine_data\n",
    "food_ids_in_ratings = set(ratings_data['Food_ID'])\n",
    "food_ids_in_cuisine = set(cuisine_data['Food_ID'])\n",
    "missing_food_ids = food_ids_in_ratings - food_ids_in_cuisine\n",
    "\n",
    "if missing_food_ids:\n",
    "    print(\"Warning: There are Food_IDs in ratings that are missing in the cuisine dataset:\", missing_food_ids)\n",
    "else:\n",
    "    print(\"All Food_IDs in ratings are consistent with the cuisine dataset.\")\n",
    "\n",
    "print(ratings_data.info())\n",
    "print(cuisine_data.info())"
   ]
  },
  {
   "cell_type": "markdown",
   "id": "0af6f4ba-b2ee-482c-82e8-c1d9b2d81c94",
   "metadata": {},
   "source": [
    "Similarly, it ensures that all rated Food_IDs from ratings_data are included in cuisine_data since out-of-stocks may be a problem at the time of recommendation. It prints a warning in case of mismatches; else, assert the data is consistent. Finally, printing info() to reveal a summary of dataset structure."
   ]
  },
  {
   "cell_type": "markdown",
   "id": "c4fe7ce2-5a48-4608-a143-85cb1158a81e",
   "metadata": {},
   "source": [
    "### Creating User-Item Matrices"
   ]
  },
  {
   "cell_type": "code",
   "execution_count": 6,
   "id": "cd56d286-f321-4a68-9403-1503cb191863",
   "metadata": {},
   "outputs": [],
   "source": [
    "# Creating the user-item matrix\n",
    "user_item_matrix = ratings_data.pivot_table(index='User_ID', columns='Food_ID', values='Rating', fill_value=0)"
   ]
  },
  {
   "cell_type": "markdown",
   "id": "4e496520-0e86-4ee8-903f-be79f2e3660c",
   "metadata": {},
   "source": [
    "We build the user-item matrix to represent user interactions with food items. The users are in rows and the food items in columns, and ratings are used as values. This matrix is essential to model-based collaborative filtering because it is a representation of user preferences in a structured format. Filling missing values with zero keeps everything uniform and allows matrix factorization techniques like SVD to work well on sparse data."
   ]
  },
  {
   "cell_type": "markdown",
   "id": "fcb141c9-8890-47d6-b275-f778f6d59ca9",
   "metadata": {},
   "source": [
    "### Splitting User-Item Matrix in Training and Testing Sets"
   ]
  },
  {
   "cell_type": "code",
   "execution_count": 7,
   "id": "9f8c51af-0c90-47e0-bc3d-a2854ede663a",
   "metadata": {},
   "outputs": [
    {
     "name": "stdout",
     "output_type": "stream",
     "text": [
      "Training data size: (80, 309)\n",
      "Testing data size: (20, 309)\n"
     ]
    }
   ],
   "source": [
    "# Splitting the user-item matrix into training and testing sets\n",
    "train_data, test_data = train_test_split(user_item_matrix, test_size=0.2, random_state=42)\n",
    "\n",
    "print(\"Training data size:\", train_data.shape)\n",
    "print(\"Testing data size:\", test_data.shape)"
   ]
  },
  {
   "cell_type": "markdown",
   "id": "797a3a2e-41ea-47b1-bc8e-ceb330ee2b9d",
   "metadata": {},
   "source": [
    "We partition the user-item matrix into training (80%) and testing (20%) sets to measure the performance of the model on unseen data. This helps guarantee that the model learns the patterns from a subset of the data and is tested on different data to ensure reliability. The training set (80, 309) is utilized to train the SVD model, with the testing set (20, 309) serving to measure its ability to generalize. This split avoids overfitting and enables the model to generalize well with new food and customers."
   ]
  },
  {
   "cell_type": "markdown",
   "id": "d46e61e8-e021-421d-b7c1-5621c741cac5",
   "metadata": {},
   "source": [
    "### Normalizing the User-Item Matrix"
   ]
  },
  {
   "cell_type": "code",
   "execution_count": 8,
   "id": "b82118e6-e02c-43cf-b9e4-8726b0329e70",
   "metadata": {},
   "outputs": [],
   "source": [
    "# Applying Min-Max normalization\n",
    "scaler = MinMaxScaler(feature_range=(0, 1))\n",
    "train_data_scaled = scaler.fit_transform(train_data)\n",
    "test_data_scaled = scaler.transform(test_data)\n",
    "\n",
    "# Converting these back to DataFrames for easier manipulation\n",
    "train_data_scaled = pd.DataFrame(train_data_scaled, index=train_data.index, columns=train_data.columns)\n",
    "test_data_scaled = pd.DataFrame(test_data_scaled, index=test_data.index, columns=test_data.columns)"
   ]
  },
  {
   "cell_type": "markdown",
   "id": "ed8cf141-8883-4daf-acdc-338af80bcf47",
   "metadata": {},
   "source": [
    "We normalize the values in the user-item matrix between 0 and 1 using Min-Max normalization to obtain better numerical stability for SVD. The training set is scaled and fitted, but the test set is scaled as well to maintain consistency. Data is unscaled into a DataFrame for better handling after scaling. This has the effect of placing all of the ratings onto the same comparable scale 0 to 1, and this improves model accuracy and the speed of convergence when matrix factorization."
   ]
  },
  {
   "cell_type": "markdown",
   "id": "b10304c4-f68a-4706-a291-d5e1a80b0af5",
   "metadata": {},
   "source": [
    "### Implementing Matrix Factorization"
   ]
  },
  {
   "cell_type": "code",
   "execution_count": 9,
   "id": "0301be0b-e648-42a3-9a8b-dbbb3744a5e0",
   "metadata": {},
   "outputs": [],
   "source": [
    "# Converting the DataFrame to a sparse matrix\n",
    "train_matrix_sparse = csr_matrix(train_data_scaled.values)\n",
    "test_matrix_sparse = csr_matrix(test_data_scaled.values)"
   ]
  },
  {
   "cell_type": "markdown",
   "id": "5a3f64f6-ed5b-47d1-957d-23538d164140",
   "metadata": {},
   "source": [
    "This converts the dense user-item interaction matrices into sparse matrices in CSR form, a requirement for fast computation, especially in recommender systems where data sparsity is the normal issue. Since most of the users have only rated a very small number of items, the matrix is primarily populated with zeros, and storing or computing it as a dense array would therefore be wasteful and costly. By transforming train_matrix_scaled and test_matrix_scaled into CSR matrices, we conserve significant memory space and improve speeds of operations such as dot product calculation, similarity calculation, and matrix factorization."
   ]
  },
  {
   "cell_type": "markdown",
   "id": "dfba1716-10cb-48f9-a6f8-5508de68ef1a",
   "metadata": {},
   "source": [
    "### SVD"
   ]
  },
  {
   "cell_type": "code",
   "execution_count": 10,
   "id": "d8806fdc-ec90-4189-b600-5a7b797c8a89",
   "metadata": {},
   "outputs": [
    {
     "name": "stdout",
     "output_type": "stream",
     "text": [
      "Latent factors: 1, Cumulative Explained Variance: 0.032754854820959065\n",
      "Latent factors: 2, Cumulative Explained Variance: 0.05389940076255964\n",
      "Latent factors: 3, Cumulative Explained Variance: 0.08187009491330026\n",
      "Latent factors: 4, Cumulative Explained Variance: 0.1088006416821973\n",
      "Latent factors: 5, Cumulative Explained Variance: 0.135005204732339\n",
      "Latent factors: 6, Cumulative Explained Variance: 0.15685662056720884\n",
      "Latent factors: 7, Cumulative Explained Variance: 0.18179655733553032\n",
      "Latent factors: 8, Cumulative Explained Variance: 0.20573496655579301\n",
      "Latent factors: 9, Cumulative Explained Variance: 0.22760821364200842\n",
      "Latent factors: 10, Cumulative Explained Variance: 0.24970998801649202\n",
      "Latent factors: 11, Cumulative Explained Variance: 0.272501209777881\n",
      "Latent factors: 12, Cumulative Explained Variance: 0.2935329212886197\n",
      "Latent factors: 13, Cumulative Explained Variance: 0.3146036306485946\n",
      "Latent factors: 14, Cumulative Explained Variance: 0.3350926459439786\n",
      "Latent factors: 15, Cumulative Explained Variance: 0.35412153233989213\n",
      "Latent factors: 16, Cumulative Explained Variance: 0.3746255399735588\n",
      "Latent factors: 17, Cumulative Explained Variance: 0.39341486946340015\n",
      "Latent factors: 18, Cumulative Explained Variance: 0.4112242407542661\n",
      "Latent factors: 19, Cumulative Explained Variance: 0.42910177405276345\n",
      "Latent factors: 20, Cumulative Explained Variance: 0.44665401685061074\n",
      "Latent factors: 21, Cumulative Explained Variance: 0.46291844261406695\n",
      "Latent factors: 22, Cumulative Explained Variance: 0.4796067160186506\n",
      "Latent factors: 23, Cumulative Explained Variance: 0.49696674942277064\n",
      "Latent factors: 24, Cumulative Explained Variance: 0.5136313369231896\n",
      "Latent factors: 25, Cumulative Explained Variance: 0.5290648510755515\n",
      "Latent factors: 26, Cumulative Explained Variance: 0.5443103492126007\n",
      "Latent factors: 27, Cumulative Explained Variance: 0.5602107156794258\n",
      "Latent factors: 28, Cumulative Explained Variance: 0.5753327152510599\n",
      "Latent factors: 29, Cumulative Explained Variance: 0.5905315672692375\n",
      "Latent factors: 30, Cumulative Explained Variance: 0.6054541407403111\n",
      "Latent factors: 31, Cumulative Explained Variance: 0.6195165924463314\n",
      "Latent factors: 32, Cumulative Explained Variance: 0.632684739056393\n",
      "Latent factors: 33, Cumulative Explained Variance: 0.6465513927235705\n",
      "Latent factors: 34, Cumulative Explained Variance: 0.6587446616470715\n",
      "Latent factors: 35, Cumulative Explained Variance: 0.6724448150235268\n",
      "Latent factors: 36, Cumulative Explained Variance: 0.6850060267347963\n",
      "Latent factors: 37, Cumulative Explained Variance: 0.6976710880394751\n",
      "Latent factors: 38, Cumulative Explained Variance: 0.7096881896914808\n",
      "Latent factors: 39, Cumulative Explained Variance: 0.7217216297482598\n",
      "Latent factors: 40, Cumulative Explained Variance: 0.7333890010515172\n",
      "Latent factors: 41, Cumulative Explained Variance: 0.7446723355032432\n",
      "Latent factors: 42, Cumulative Explained Variance: 0.7555082363447868\n",
      "Latent factors: 43, Cumulative Explained Variance: 0.766012188152181\n",
      "Latent factors: 44, Cumulative Explained Variance: 0.7767022697781434\n",
      "Latent factors: 45, Cumulative Explained Variance: 0.7872400708774058\n",
      "Latent factors: 46, Cumulative Explained Variance: 0.7970155482522648\n",
      "Latent factors: 47, Cumulative Explained Variance: 0.8063727243291717\n",
      "Latent factors: 48, Cumulative Explained Variance: 0.8160464271415053\n",
      "Latent factors: 49, Cumulative Explained Variance: 0.8256171531489237\n",
      "Latent factors: 50, Cumulative Explained Variance: 0.834469903265405\n",
      "Latent factors: 51, Cumulative Explained Variance: 0.8433767192413398\n",
      "Latent factors: 52, Cumulative Explained Variance: 0.8519253883260949\n",
      "Latent factors: 53, Cumulative Explained Variance: 0.8597742376123144\n",
      "Latent factors: 54, Cumulative Explained Variance: 0.8673913821780165\n",
      "Latent factors: 55, Cumulative Explained Variance: 0.8751803329886403\n",
      "Latent factors: 56, Cumulative Explained Variance: 0.8821539941818051\n",
      "Latent factors: 57, Cumulative Explained Variance: 0.8895238563646303\n",
      "Latent factors: 58, Cumulative Explained Variance: 0.8965673145931057\n",
      "Latent factors: 59, Cumulative Explained Variance: 0.9032724701007004\n",
      "Latent factors: 60, Cumulative Explained Variance: 0.9097779633523637\n",
      "Latent factors: 61, Cumulative Explained Variance: 0.9162458336005148\n",
      "Latent factors: 62, Cumulative Explained Variance: 0.9226344149455405\n",
      "Latent factors: 63, Cumulative Explained Variance: 0.9289265028747775\n",
      "Latent factors: 64, Cumulative Explained Variance: 0.935237525302093\n",
      "Latent factors: 65, Cumulative Explained Variance: 0.9416028240935002\n",
      "Latent factors: 66, Cumulative Explained Variance: 0.9473122138355564\n",
      "Latent factors: 67, Cumulative Explained Variance: 0.9524298395673779\n",
      "Latent factors: 68, Cumulative Explained Variance: 0.9574685773761512\n",
      "Latent factors: 69, Cumulative Explained Variance: 0.9620926975778217\n",
      "Optimal number of latent factors: 59\n"
     ]
    }
   ],
   "source": [
    "latent_factors = range(1, 70)  # Trying up to 70 latent factors\n",
    "explained_variances = []\n",
    "\n",
    "for k in latent_factors:\n",
    "    svd = TruncatedSVD(n_components=k, random_state=42)\n",
    "    svd.fit(train_matrix_sparse)\n",
    "    \n",
    "    # Record the cumulative variance explained by the first k components\n",
    "    explained_variance = np.sum(svd.explained_variance_ratio_)\n",
    "    explained_variances.append(explained_variance)\n",
    "    print(f\"Latent factors: {k}, Cumulative Explained Variance: {explained_variance}\")\n",
    "\n",
    "# Find the smallest number of components that explains at least 90% of the variance\n",
    "optimal_k = next(k for k, variance in enumerate(explained_variances) if variance >= 0.90)\n",
    "print(f\"Optimal number of latent factors: {optimal_k + 1}\")"
   ]
  },
  {
   "cell_type": "markdown",
   "id": "92d87726-2cc1-438d-889a-d9ec5299b59a",
   "metadata": {},
   "source": [
    "The code iterates over a list of hidden factors (1 to 70) and applies Truncated SVD on the training set to calculate how much variance is captured by each number of components. This is crucial because in Matrix Factorization, we are attempting to obtain lower dimensionality with most important information. By summing up the ratio of explained variance for each number of components, we measure how well the model is at representing the data structure. We experimented with some approaches above, such as specifying a fixed given number of latent factors and attempting different imputation on missing values, but these methods did not have an objective criterion for choosing the appropriate factor number. Here, we compute rigorously the number of components with at least 90% of the cumulative variance, to strike a balance between keeping computational efficiency and preserving recommendation quality, and choose dynamically the optimal latent factor instead of using an arbitrary assumption.\n",
    "\n",
    "The output shows the cumulative explained variance as we add more latent factors. Starting with a single factor, we capture only 3.28% of the variance, and it grows steadily with more factors. At 59 latent factors, the cumulative explained variance is 90.32%, so this is the number of components we need to retain at least 90% of the data's structure. This justifies the necessity of selecting an optimal latent factor—too few components will do a bad job of approximating the original user-item interactions, and too many components will lead to overfitting and unnecessary computation. This is an important step in ensuring that the recommendation system is accurate and efficient without being unnecessarily complex."
   ]
  },
  {
   "cell_type": "code",
   "execution_count": 11,
   "id": "960d6005-1992-4abd-acb3-a312bb39fe9d",
   "metadata": {},
   "outputs": [
    {
     "data": {
      "image/png": "[encoded data removed]",
      "text/plain": [
       "<Figure size 1000x600 with 1 Axes>"
      ]
     },
     "metadata": {},
     "output_type": "display_data"
    }
   ],
   "source": [
    "# Creating a plot for explained variances\n",
    "plt.figure(figsize=(10, 6))\n",
    "plt.plot(latent_factors, explained_variances, marker='o')\n",
    "plt.xlabel('Number of Latent Factors')\n",
    "plt.ylabel('Cumulative Explained Variance')\n",
    "plt.title('Explained Variance by Different Numbers of Latent Factors')\n",
    "plt.grid(True)\n",
    "plt.axhline(y=0.90, color='r', linestyle='--')  # Threshold line at 90% variance explained\n",
    "plt.savefig('Explained Variance by Different Numbers of Latent Factors.png')\n",
    "plt.show()"
   ]
  },
  {
   "cell_type": "markdown",
   "id": "a91f8d3f-45fd-4c07-a72c-30d658707530",
   "metadata": {},
   "source": [
    "This graphically represents the cumulative explained variance for different numbers of latent factors. The blue dots show that the variance rises with an increase in the number of factors, and the red dashed line is the 90% variance threshold marking the number of components to yield efficiency and accuracy. It assures that around 59 latent factors meet this threshold, and this agrees with our computational findings."
   ]
  },
  {
   "cell_type": "code",
   "execution_count": 12,
   "id": "62021f80-d247-4b9c-956b-d298763e88c6",
   "metadata": {},
   "outputs": [],
   "source": [
    "# Initializing TruncatedSVD with the optimal number of latent factors\n",
    "number_of_latent_factors = 59\n",
    "svd = TruncatedSVD(n_components=number_of_latent_factors, random_state=42)\n",
    "\n",
    "# Fitting and transforming the training data\n",
    "U = svd.fit_transform(train_matrix_sparse)\n",
    "\n",
    "# Singular values and right singular vectors\n",
    "sigma = svd.singular_values_\n",
    "Vt = svd.components_\n",
    "\n",
    "# Reconstruction to check approximation quality\n",
    "approximation = np.dot(U, np.dot(np.diag(sigma), Vt))\n",
    "approximation_df = pd.DataFrame(approximation, index=train_data_scaled.index, columns=train_data_scaled.columns)"
   ]
  },
  {
   "cell_type": "markdown",
   "id": "714f0ea0-8f30-4597-981c-a33ebf8fa47e",
   "metadata": {},
   "source": [
    "TruncatedSVD is employed due to its ability to efficiently compress the sparse high-dimensional matrix into a low-dimensional one while retaining as much important information as possible.\n",
    "\n",
    "We start by invoking svd with n_components=59, i.e., we are factoring the original matrix into 59 significant latent factors that explain at least 90% of the data's variance. We next fit and transform train_matrix_sparse to obtain three principal components: U (user feature matrix), sigma (singular value diagonal matrix showing the significance of each latent factor), and Vt (transpose of item feature matrix). These will allow us to project users and items into a low-dimensional feature space without losing their relational information.\n",
    "\n",
    "Finally, we reconstruct the matrix by taking the product of U, sigma, and Vt and use this to estimate the initial user-item matrix. approximation_df, which contains the predicted ratings for each user-item pair. This reconstructed matrix is crucial in terms of generating recommendations since it allows us to make predictions for items that are not explicitly rated by the users. We use SVD instead of traditional memory-based techniques since it handles sparsity more effectively, does not have the cold-start issue, and it identifies inherent patterns in the users' preferences, and thus it is a strong technique in model-based collaborative filtering."
   ]
  },
  {
   "cell_type": "markdown",
   "id": "acf38284-b1dd-4719-b046-d2cb69441c09",
   "metadata": {},
   "source": [
    "### Evaluating Model Performance"
   ]
  },
  {
   "cell_type": "code",
   "execution_count": 13,
   "id": "a559177f-bff9-437a-b697-280e26235613",
   "metadata": {},
   "outputs": [
    {
     "name": "stdout",
     "output_type": "stream",
     "text": [
      "Training RMSE: 0.15632285722376177\n",
      "Training MAE: 0.029835384312900278\n"
     ]
    }
   ],
   "source": [
    "# Evaluating on Training Data\n",
    "train_matrix_aligned = train_data_scaled.reindex_like(approximation_df).fillna(0)\n",
    "\n",
    "predicted_ratings_train = approximation_df.values.flatten()\n",
    "actual_ratings_train = train_matrix_aligned.values.flatten()\n",
    "\n",
    "# RMSE\n",
    "rmse_train = sqrt(mean_squared_error(actual_ratings_train, predicted_ratings_train)) \n",
    "# MAE\n",
    "mae_train = mean_absolute_error(actual_ratings_train, predicted_ratings_train)\n",
    "\n",
    "print('Training RMSE:', rmse_train)\n",
    "print('Training MAE:', mae_train)"
   ]
  },
  {
   "cell_type": "markdown",
   "id": "58ba3594-f68c-43be-8a25-bf054651a8aa",
   "metadata": {},
   "source": [
    "We validate our model by comparing predicted ratings from SVD approximation with the training set ratings. Since the form of the approximation matrix can be of a different nature, we transform it to the form of the training matrix before we pull out values from it. Precision of prediction is assessed in terms of Root Mean Square Error (RMSE) and Mean Absolute Error (MAE). RMSE assigns more importance to big errors, while MAE provides us with an honest average absolute error. It informs us how well our model can reconstruct the original user-item matrix after dimensionality reduction.\n",
    "\n",
    "The Training RMSE of 0.1563 indicates that, on average, our estimates are off from true ratings by around 0.16 points, which is very low. The Training MAE of 0.0298 indicates that the average absolute error per estimate is around 0.03 points, which again confirms that the model is producing correct estimates. The low error values indicate that our SVD-based approach is doing a good job in identifying the latent factors and modeling user tastes appropriately without any overfitting."
   ]
  },
  {
   "cell_type": "code",
   "execution_count": 14,
   "id": "55e7bbac-daf7-4e15-b7b7-5f75f809b0cb",
   "metadata": {},
   "outputs": [
    {
     "name": "stdout",
     "output_type": "stream",
     "text": [
      "Testing RMSE: 0.2566255145461825\n",
      "Testing MAE: 0.04187193772940129\n"
     ]
    }
   ],
   "source": [
    "# Evaluating on Testing Data\n",
    "test_matrix_aligned = test_data_scaled.reindex_like(approximation_df).fillna(0)\n",
    "\n",
    "predicted_ratings_test = approximation_df.values.flatten()\n",
    "actual_ratings_test = test_matrix_aligned.values.flatten()\n",
    "\n",
    "# RMSE\n",
    "rmse_test = sqrt(mean_squared_error(actual_ratings_test, predicted_ratings_test))\n",
    "# MAE\n",
    "mae_test = mean_absolute_error(actual_ratings_test, predicted_ratings_test)\n",
    "\n",
    "print('Testing RMSE:', rmse_test)\n",
    "print('Testing MAE:', mae_test)"
   ]
  },
  {
   "cell_type": "markdown",
   "id": "817dc370-82ff-49cd-afc6-15ef96453e29",
   "metadata": {},
   "source": [
    "The Testing RMSE of 0.2566 is little more than the Training RMSE of 0.1563, or that the model is slightly worse on new data. The Testing MAE of 0.0419 is likewise more than the Training MAE of 0.0298, an addition in absolute error by a bit. That can be expected given that the model has been fit to the training data but is predicting on novel information in the test set. That test error isn't much larger suggests that the model is generalizing extremely well and is not overfitting. Adding in small levels of error suggests that the model performs very high levels of accuracy in new user and food prediction. This suggests that SVD-based matrix factorization actually does a fantastic job when it comes to extracting patterns within sparse user-item data with extremely low prediction errors."
   ]
  },
  {
   "cell_type": "markdown",
   "id": "8498b8a8-efad-4ef4-81b6-d5725c6caf70",
   "metadata": {},
   "source": [
    "### Generating Personalized Cuisine Recommendations using SVD"
   ]
  },
  {
   "cell_type": "code",
   "execution_count": 15,
   "id": "25372aad-e7b3-4395-8e9a-6eba425c8a3f",
   "metadata": {},
   "outputs": [
    {
     "name": "stdout",
     "output_type": "stream",
     "text": [
      "Items already rated by User 3:\n",
      " Food_ID\n",
      "46                    steam bunny chicken bao\n",
      "65             almond  white chocolate gujiya\n",
      "73                              hot chocolate\n",
      "110              chicken and mushroom lasagna\n",
      "168                 egg and garlic fried rice\n",
      "201    mix fruit laccha rabri tortilla crunch\n",
      "209                      camel milk cake tart\n",
      "292                             chicken tikka\n",
      "299                             kolim / jawla\n",
      "Name: Name, dtype: object\n",
      "Top 5 recommended items for User 3:\n",
      " Food_ID\n",
      "93     buldak (hot and spicy chicken)\n",
      "152                  prawn fried rice\n",
      "69       banana and maple ice lollies\n",
      "101               crispy herb chicken\n",
      "138                malabar fish curry\n",
      "Name: Name, dtype: object\n"
     ]
    }
   ],
   "source": [
    "def recommend_top_cuisines(user_id, approximation_df, train_data_scaled, cuisine_data, top_n=5):\n",
    "    # Checking if the user exists\n",
    "    if user_id not in train_data_scaled.index:\n",
    "        return f\"User ID {user_id} does not exist in the dataset.\", None\n",
    "\n",
    "    user_ratings = train_data_scaled.loc[user_id]\n",
    "    rated_items = user_ratings[user_ratings > 0].index  # Items the user has already rated\n",
    "\n",
    "    # Getting the predicted ratings for this user from the SVD approximation\n",
    "    predicted_ratings = approximation_df.loc[user_id]\n",
    "\n",
    "    # Removing already rated items from recommendations\n",
    "    predicted_ratings_filtered = predicted_ratings.drop(rated_items, errors='ignore')\n",
    "\n",
    "    # Top N recommended food items\n",
    "    top_items = predicted_ratings_filtered.nlargest(top_n).index\n",
    "\n",
    "    # Retrieving names of already rated and recommended items\n",
    "    rated_item_names = cuisine_data.set_index('Food_ID').loc[rated_items]['Name'] if not rated_items.empty else \"No rated items.\"\n",
    "    recommended_item_names = cuisine_data.set_index('Food_ID').loc[top_items]['Name']\n",
    "\n",
    "    return rated_item_names, recommended_item_names\n",
    "\n",
    "user_id = 3\n",
    "rated_items, recommended_items = recommend_top_cuisines(user_id, approximation_df, train_data_scaled, cuisine_data)\n",
    "\n",
    "if isinstance(rated_items, str):\n",
    "    print(rated_items) \n",
    "else:\n",
    "    print(f\"Items already rated by User {user_id}:\\n\", rated_items)\n",
    "    print(f\"Top {5} recommended items for User {user_id}:\\n\", recommended_items)"
   ]
  },
  {
   "cell_type": "markdown",
   "id": "05afc228-9843-4259-8544-6ee174636fb0",
   "metadata": {},
   "source": [
    "Here, we have a function which recommends the top 5 cuisines of the user based on the predicted ratings of the SVD model. First, we check if the user exists in the dataset in order to offer correct recommendations. Next, we use the original training matrix (train_matrix) to get the actual ratings submitted by the user and see what cuisines have already been rated by the user. We then retrieve SVD-predicted ratings from the reconstructed approximation matrix (approximation_df) and remove rated items so that only new, unseen cuisines are being recommended. We then select the top 5 cuisines with the highest predicted ratings, and we recover their names from the cuisine_data dataset. This ensures that the recommendation is consistent with the taste of the user while suggesting new cuisines that the user might like.\n",
    "\n",
    "The output shows that User 3 has previously rated seven different cuisines, including \"chicken tikka,\" \"hot chocolate,\" and \"steam bunny chicken bao.\" The recommendation model anticipates five new cuisines with high predicted ratings, including \"prawn fried rice,\" \"buldak (hot and spicy chicken),\" and \"crispy herb chicken.\" The diversity in recommendations shows that the model has been successful in discovering user preferences and is suggesting a mix of similar and diverse cuisines. However, other enhancements such as hybrid recommendations or fine-tuning per user may push the level of personalization further."
   ]
  }
 ],
 "metadata": {
  "kernelspec": {
   "display_name": "Python 3 (ipykernel)",
   "language": "python",
   "name": "python3"
  },
  "language_info": {
   "codemirror_mode": {
    "name": "ipython",
    "version": 3
   },
   "file_extension": ".py",
   "mimetype": "text/x-python",
   "name": "python",
   "nbconvert_exporter": "python",
   "pygments_lexer": "ipython3",
   "version": "3.11.5"
  }
 },
 "nbformat": 4,
 "nbformat_minor": 5
}
