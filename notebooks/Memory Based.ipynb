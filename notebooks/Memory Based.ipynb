{
 "cells": [
  {
   "cell_type": "markdown",
   "id": "3d896bec",
   "metadata": {},
   "source": [
    "## Memory-Based Collaborative Filtering of  Recipes & Ingredients and there ratings \n",
    "In this type of  recommendations system we have two types of approachs.                                                                                                          1)Item based :-item_item interaction                                                                                                                                              2)User based :-user_item interaction"
   ]
  },
  {
   "cell_type": "markdown",
   "id": "07e629b2",
   "metadata": {},
   "source": [
    "## Loading Required Libraries"
   ]
  },
  {
   "cell_type": "code",
   "execution_count": 1,
   "id": "aec54297-2a17-46d0-891a-341172ccab52",
   "metadata": {},
   "outputs": [],
   "source": [
    "# Importing all the required libraries\n",
    "import pandas as pd\n",
    "import numpy as np\n",
    "from sklearn.metrics.pairwise import cosine_similarity\n",
    "from sklearn.preprocessing import MinMaxScaler"
   ]
  },
  {
   "cell_type": "markdown",
   "id": "f7e34753",
   "metadata": {},
   "source": [
    "## Loading the datasets "
   ]
  },
  {
   "cell_type": "code",
   "execution_count": 2,
   "id": "bda54507-cbd1-4de3-80d7-15c3b88a7355",
   "metadata": {},
   "outputs": [],
   "source": [
    "# Loading the ingredients dataset\n",
    "ingredients_data = pd.read_csv('../data/ingredients.csv')\n",
    "\n",
    "# Loading the ratings dataset\n",
    "ratings_data = pd.read_csv(\"../data/ratings.csv\")"
   ]
  },
  {
   "cell_type": "markdown",
   "id": "04ff7ff7",
   "metadata": {},
   "source": [
    "## Data preprocessing "
   ]
  },
  {
   "cell_type": "code",
   "execution_count": 3,
   "id": "cb57569a-ca84-43fb-a441-139afe9783e2",
   "metadata": {},
   "outputs": [],
   "source": [
    "# Converting 'User_ID' and 'Food_ID' from float to int in ratings.csv after checking \n",
    "ratings_data.dropna(subset=['User_ID', 'Food_ID', 'Rating'], inplace=True) \n",
    "ratings_data['User_ID'] = ratings_data['User_ID'].astype(int)\n",
    "ratings_data['Food_ID'] = ratings_data['Food_ID'].astype(int)"
   ]
  },
  {
   "cell_type": "code",
   "execution_count": 4,
   "id": "323fcfcd-343a-45e2-bcdd-3172609a0b5c",
   "metadata": {},
   "outputs": [],
   "source": [
    "# Checking for the duplicate entries in both datasets and clearing them\n",
    "ratings_data = ratings_data.drop_duplicates()\n",
    "ingredients_data = ingredients_data.drop_duplicates()"
   ]
  },
  {
   "cell_type": "code",
   "execution_count": 5,
   "id": "af651c6f-a3e6-40c4-bcdd-8f9a6569d9ed",
   "metadata": {},
   "outputs": [
    {
     "name": "stdout",
     "output_type": "stream",
     "text": [
      "All Food_IDs in ratings are consistent with the ingredient dataset.\n",
      "<class 'pandas.core.frame.DataFrame'>\n",
      "RangeIndex: 511 entries, 0 to 510\n",
      "Data columns (total 3 columns):\n",
      " #   Column   Non-Null Count  Dtype\n",
      "---  ------   --------------  -----\n",
      " 0   User_ID  511 non-null    int64\n",
      " 1   Food_ID  511 non-null    int64\n",
      " 2   Rating   511 non-null    int64\n",
      "dtypes: int64(3)\n",
      "memory usage: 12.1 KB\n",
      "None\n",
      "<class 'pandas.core.frame.DataFrame'>\n",
      "RangeIndex: 400 entries, 0 to 399\n",
      "Data columns (total 5 columns):\n",
      " #   Column    Non-Null Count  Dtype \n",
      "---  ------    --------------  ----- \n",
      " 0   Food_ID   400 non-null    int64 \n",
      " 1   Name      400 non-null    object\n",
      " 2   C_Type    400 non-null    object\n",
      " 3   Veg_Non   400 non-null    object\n",
      " 4   Describe  400 non-null    object\n",
      "dtypes: int64(1), object(4)\n",
      "memory usage: 15.8+ KB\n",
      "None\n"
     ]
    }
   ],
   "source": [
    "# Ensuring that all Food_IDs in ratings_data are present in ingredients_data\n",
    "# It's important that every food item rated has information in the ingredients dataset\n",
    "food_ids_in_ratings = set(ratings_data['Food_ID'])\n",
    "food_ids_in_ingredients = set(ingredients_data['Food_ID'])\n",
    "missing_food_ids = food_ids_in_ratings - food_ids_in_ingredients\n",
    "\n",
    "if missing_food_ids:\n",
    "    print(\"Warning: There are Food_IDs in ratings that are missing in the ingredients dataset:\", missing_food_ids)\n",
    "else:\n",
    "    print(\"All Food_IDs in ratings are consistent with the ingredient dataset.\")\n",
    "\n",
    "# Checking summary and information of the cleaned datasets\n",
    "print(ratings_data.info())\n",
    "print(ingredients_data.info())"
   ]
  },
  {
   "cell_type": "markdown",
   "id": "4459272c",
   "metadata": {},
   "source": [
    "## Normalizing the data"
   ]
  },
  {
   "cell_type": "code",
   "execution_count": 6,
   "id": "ab4a5653-db35-4d0d-b9fe-d01eee5a94de",
   "metadata": {},
   "outputs": [],
   "source": [
    "# Normalizing the ratings to scale between 0 and 1\n",
    "scaler = MinMaxScaler(feature_range=(0, 1))\n",
    "\n",
    "# Ensuring the user_item_matrix is prepared by pivoting ratings_data\n",
    "user_item_matrix = ratings_data.pivot_table(index='User_ID', columns='Food_ID', values='Rating', fill_value=0)\n",
    "\n",
    "# Applying Min-Max scaling\n",
    "user_item_matrix_scaled = scaler.fit_transform(user_item_matrix)\n",
    "\n",
    "# Converting the scaled array back to a DataFrame, maintaining original indices and columns\n",
    "user_item_matrix_scaled = pd.DataFrame(user_item_matrix_scaled, index=user_item_matrix.index, columns=user_item_matrix.columns)"
   ]
  },
  {
   "cell_type": "markdown",
   "id": "52b66e92",
   "metadata": {},
   "source": [
    "## Computing Item-Item Similarity Matrix (item based) using the cosine similarity"
   ]
  },
  {
   "cell_type": "code",
   "execution_count": 7,
   "id": "0fb827e0-357d-4cdc-931c-0e364904ee94",
   "metadata": {
    "scrolled": true
   },
   "outputs": [
    {
     "name": "stdout",
     "output_type": "stream",
     "text": [
      "Food_ID  1         2    3    4         5         6         7    8    9    \\\n",
      "Food_ID                                                                    \n",
      "1        1.0  0.000000  0.0  0.0  0.000000  0.204006  0.452548  0.0  0.0   \n",
      "2        0.0  1.000000  0.0  0.0  0.489855  0.000000  0.000000  0.0  0.0   \n",
      "3        0.0  0.000000  1.0  0.0  0.000000  0.064512  0.000000  0.0  0.0   \n",
      "4        0.0  0.000000  0.0  1.0  0.000000  0.000000  0.000000  0.0  0.0   \n",
      "5        0.0  0.489855  0.0  0.0  1.000000  0.000000  0.000000  0.0  0.0   \n",
      "\n",
      "Food_ID       10   ...  300  301  302  303  304  305  306       307  308  309  \n",
      "Food_ID            ...                                                         \n",
      "1        0.000000  ...  0.0  0.0  0.0  0.0  0.0  0.0  0.0  0.894427  0.0  0.0  \n",
      "2        0.000000  ...  0.0  0.0  0.0  0.0  0.0  0.0  0.0  0.000000  0.0  0.0  \n",
      "3        0.000000  ...  0.0  0.0  0.0  0.0  0.0  0.0  0.0  0.000000  0.0  0.0  \n",
      "4        0.000000  ...  0.0  0.0  0.0  0.0  0.0  0.0  0.0  0.000000  0.0  0.0  \n",
      "5        0.108806  ...  0.0  0.0  0.0  0.0  0.0  0.0  0.0  0.000000  0.0  0.0  \n",
      "\n",
      "[5 rows x 309 columns]\n"
     ]
    }
   ],
   "source": [
    "# Transposing the matrix so that items become rows and users become columns\n",
    "item_matrix_scaled = user_item_matrix_scaled.T\n",
    "\n",
    "# Calculating the cosine similarity between items\n",
    "item_similarity_matrix = cosine_similarity(item_matrix_scaled)\n",
    "item_similarity_df = pd.DataFrame(item_similarity_matrix, index=item_matrix_scaled.index, columns=item_matrix_scaled.index)\n",
    "\n",
    "# Displaying the item similarity matrix\n",
    "print(item_similarity_df.head())"
   ]
  },
  {
   "cell_type": "markdown",
   "id": "5ce663aa",
   "metadata": {},
   "source": [
    "## Function for the item based recommendation system  "
   ]
  },
  {
   "cell_type": "code",
   "execution_count": 8,
   "id": "34948393-92a1-4d66-86b8-c816a69c2cc2",
   "metadata": {},
   "outputs": [
    {
     "name": "stdout",
     "output_type": "stream",
     "text": [
      "Items already rated by User: Food_ID\n",
      "46                    steam bunny chicken bao\n",
      "65             almond  white chocolate gujiya\n",
      "73                              hot chocolate\n",
      "110              chicken and mushroom lasagna\n",
      "168                 egg and garlic fried rice\n",
      "201    mix fruit laccha rabri tortilla crunch\n",
      "209                      camel milk cake tart\n",
      "292                             chicken tikka\n",
      "299                             kolim / jawla\n",
      "Name: Name, dtype: object\n",
      "Recommended items for User: Food_ID\n",
      "152                  prawn fried rice\n",
      "93     buldak (hot and spicy chicken)\n",
      "261              chicken shaami kebab\n",
      "101               crispy herb chicken\n",
      "138                malabar fish curry\n",
      "Name: Name, dtype: object\n"
     ]
    }
   ],
   "source": [
    "def item_based_recommendation_with_names(user_id, user_item_matrix, item_similarity_df, ingredients_data, top_n=5):\n",
    "    # Checking if the user_id exists in the user_item_matrix\n",
    "    if user_id not in user_item_matrix.index:\n",
    "        return f\"User ID {user_id} does not exist.\", None\n",
    "\n",
    "    # Getting the user's ratings\n",
    "    user_ratings = user_item_matrix.loc[user_id]\n",
    "    \n",
    "    # Checking if the user has rated any items\n",
    "    if user_ratings.max() == 0:\n",
    "        return \"This user has not rated any items.\", None\n",
    "\n",
    "    # Calculating a score for each item using a weighted sum of the item similarities and the user's ratings\n",
    "    item_scores = item_similarity_df.dot(user_ratings).div(item_similarity_df.sum(axis=1))\n",
    "    \n",
    "    # Sorting the items based on the scores and filtering out items the user has already rated\n",
    "    sorted_items = item_scores.sort_values(ascending=False)\n",
    "    rated_items = user_ratings[user_ratings > 0].index\n",
    "\n",
    "    # Getting the names of the items the user has already rated\n",
    "    rated_item_names = ingredients_data.set_index('Food_ID').loc[rated_items]['Name']\n",
    "\n",
    "    # Getting the top recommended items, excluding the ones the user has already rated\n",
    "    recommended_item_ids = sorted_items.drop(rated_items).head(top_n).index\n",
    "    if recommended_item_ids.empty:\n",
    "        return rated_item_names, \"No new items to recommend.\"\n",
    "\n",
    "    recommended_item_names = ingredients_data.set_index('Food_ID').loc[recommended_item_ids]['Name']\n",
    "\n",
    "    return rated_item_names, recommended_item_names\n",
    "\n",
    "user_id = 3\n",
    "rated_items, recommended_items = item_based_recommendation_with_names(user_id, user_item_matrix_scaled, item_similarity_df, ingredients_data, top_n=5)\n",
    "if isinstance(rated_items, str):\n",
    "    print(rated_items)  # Printing error message if the function returns an error\n",
    "else:\n",
    "    print(\"Items already rated by User:\", rated_items)\n",
    "    print(\"Recommended items for User:\", recommended_items)"
   ]
  },
  {
   "cell_type": "markdown",
   "id": "178ec805",
   "metadata": {},
   "source": [
    "Our item-based recommender system suggests cuisine items to a user according to their past choice of discovering the similar items sharing  common ingredients or flavor profiles.                                                                                                                                         "
   ]
  },
  {
   "cell_type": "markdown",
   "id": "f966401d",
   "metadata": {},
   "source": [
    "In this case, the user has already rated a mix of unique and non-vegetarian dishes like steam bunny chicken bao,almond  white chocolate gujiya & hot chocolate. Because of this, the system is able to suggest other meals that match their preferences, such as Prawn Fried Rice, Malabar Fish Curry, and rice kheer. This approach makes it simple to propose new choices based on what they’ve liked in the past, making the recommendation process smoother. However, we’ve hit some bumps along the way due to a lack of data, which makes it tough to validate the model accurately. The more feedback and ratings we gather from users, the better we can improve the precision of our recommendations and continue to fine-tune the results."
   ]
  },
  {
   "cell_type": "markdown",
   "id": "fb9ddc98",
   "metadata": {},
   "source": [
    "## Computing user_Item Similarity Matrix (user based) using the cosine similarity"
   ]
  },
  {
   "cell_type": "code",
   "execution_count": 9,
   "id": "7d5a0b72-73ac-478d-a40f-bb98637df816",
   "metadata": {},
   "outputs": [
    {
     "name": "stdout",
     "output_type": "stream",
     "text": [
      "User_ID       1    2         3    4    5    6         7         8    9    10   \\\n",
      "User_ID                                                                         \n",
      "1        1.000000  0.0  0.022332  0.0  0.0  0.0  0.000000  0.000000  0.0  0.0   \n",
      "2        0.000000  1.0  0.000000  0.0  0.0  0.0  0.000000  0.000000  0.0  0.0   \n",
      "3        0.022332  0.0  1.000000  0.0  0.0  0.0  0.000000  0.055643  0.0  0.0   \n",
      "4        0.000000  0.0  0.000000  1.0  0.0  0.0  0.016682  0.118858  0.0  0.0   \n",
      "5        0.000000  0.0  0.000000  0.0  1.0  0.0  0.000000  0.000000  0.0  0.0   \n",
      "\n",
      "User_ID  ...  91        92   93   94   95   96        97   98        99   \\\n",
      "User_ID  ...                                                               \n",
      "1        ...  0.0  0.000000  0.0  0.0  0.0  0.0  0.098360  0.0  0.000000   \n",
      "2        ...  0.0  0.000000  0.0  0.0  0.0  0.0  0.000000  0.0  0.008540   \n",
      "3        ...  0.0  0.000000  0.0  0.0  0.0  0.0  0.030071  0.0  0.078699   \n",
      "4        ...  0.0  0.000000  0.0  0.0  0.0  0.0  0.000000  0.0  0.000000   \n",
      "5        ...  0.0  0.103832  0.0  0.0  0.0  0.0  0.108964  0.0  0.000000   \n",
      "\n",
      "User_ID       100  \n",
      "User_ID            \n",
      "1        0.243777  \n",
      "2        0.000000  \n",
      "3        0.000000  \n",
      "4        0.000000  \n",
      "5        0.000000  \n",
      "\n",
      "[5 rows x 100 columns]\n"
     ]
    }
   ],
   "source": [
    "# Calculating cosine similarity matrix for users from the normalized user-item matrix\n",
    "user_similarity_matrix = cosine_similarity(user_item_matrix_scaled)\n",
    "user_similarity_df = pd.DataFrame(user_similarity_matrix, index=user_item_matrix_scaled.index, columns=user_item_matrix_scaled.index)\n",
    "\n",
    "# Displaying the user similarity matrix\n",
    "print(user_similarity_df.head())"
   ]
  },
  {
   "cell_type": "markdown",
   "id": "a39f0a8c",
   "metadata": {},
   "source": [
    "## Function for the user based recommendation system  "
   ]
  },
  {
   "cell_type": "code",
   "execution_count": 10,
   "id": "39701474-b66a-4ce1-ac7d-05228110a4dd",
   "metadata": {},
   "outputs": [
    {
     "name": "stdout",
     "output_type": "stream",
     "text": [
      "Items already rated by User 3: Food_ID\n",
      "46                    steam bunny chicken bao\n",
      "65             almond  white chocolate gujiya\n",
      "73                              hot chocolate\n",
      "110              chicken and mushroom lasagna\n",
      "168                 egg and garlic fried rice\n",
      "201    mix fruit laccha rabri tortilla crunch\n",
      "209                      camel milk cake tart\n",
      "292                             chicken tikka\n",
      "299                             kolim / jawla\n",
      "Name: Name, dtype: object\n",
      "Recommended items for User 3: Food_ID\n",
      "163         red rice vermicelli kheer\n",
      "69       banana and maple ice lollies\n",
      "93     buldak (hot and spicy chicken)\n",
      "152                  prawn fried rice\n",
      "25                 cashew nut cookies\n",
      "Name: Name, dtype: object\n"
     ]
    }
   ],
   "source": [
    "def user_based_recommendation_with_history(user_id, user_similarity_df, user_item_matrix_scaled, ingredients_data_data, top_n=5):\n",
    "    # Checking if the user_id exists in the user_item_matrix\n",
    "    if user_id not in user_item_matrix_scaled.index:\n",
    "        return f\"User ID {user_id} does not exist in the dataset.\", None\n",
    "\n",
    "    # Getting rated items by the user\n",
    "    user_ratings = user_item_matrix_scaled.loc[user_id]\n",
    "    \n",
    "    # Checking if the user has rated any items\n",
    "    if not user_ratings[user_ratings > 0].any():\n",
    "        return \"This user has not rated any items.\", None\n",
    "\n",
    "    rated_items = user_ratings[user_ratings > 0].index\n",
    "    rated_item_names = ingredients_data.set_index('Food_ID').loc[rated_items]['Name'] if not rated_items.empty else \"No rated items.\"\n",
    "\n",
    "    # Similarity scores for the target user with all other users\n",
    "    similarity_scores = user_similarity_df.loc[user_id]\n",
    "\n",
    "    # Multiplying the similarity scores by the user-item matrix and summing the results to get a weighted sum of ratings\n",
    "    weighted_ratings = user_item_matrix_scaled.mul(similarity_scores, axis=0).sum(axis=0)\n",
    "\n",
    "    # Normalizing by the sum of similarity scores to get an average\n",
    "    recommendation_scores = weighted_ratings / similarity_scores.sum()\n",
    "\n",
    "    # Removing items already rated by the target user\n",
    "    recommendation_scores = recommendation_scores[~recommendation_scores.index.isin(rated_items)]\n",
    "\n",
    "    # Getting the top N items with the highest recommendation scores\n",
    "    top_items = recommendation_scores.nlargest(top_n).index\n",
    "\n",
    "    if top_items.empty:\n",
    "        return rated_item_names, \"No new items to recommend.\"\n",
    "\n",
    "    # Mapping Food_ID to names from ingredents_data for recommendations\n",
    "    recommended_item_names = ingredients_data.set_index('Food_ID').loc[top_items]['Name']\n",
    "\n",
    "    return rated_item_names, recommended_item_names\n",
    "\n",
    "rated_items, recommended_items = user_based_recommendation_with_history(3, user_similarity_df, user_item_matrix_scaled, ingredients_data)\n",
    "if isinstance(rated_items, str):\n",
    "    print(rated_items)  # Error message\n",
    "else:\n",
    "    print(\"Items already rated by User 3:\", rated_items)\n",
    "    print(\"Recommended items for User 3:\", recommended_items)"
   ]
  },
  {
   "cell_type": "markdown",
   "id": "813fa5d0",
   "metadata": {},
   "source": [
    "Our user-based recommender system suggests cuisine items to a user according to their past choice beacause the it helps in understanding the user's taste preferences."
   ]
  },
  {
   "cell_type": "markdown",
   "id": "c7653404",
   "metadata": {},
   "source": [
    "In this case, Ihe user have alredy rated  steam bunny chicken bao,almond  white chocolate gujiya and hot chocolate so Here are the  list of  food items that user haven’t rated yet they are red rice vermicelli kheer,banana and maple ice lollies and buldak (hot and spicy chicken) we think user might really like them based on what similar users have enjoyed. These recommendations come from analyzing the ratings of users who have a lot in common with this user."
   ]
  }
 ],
 "metadata": {
  "kernelspec": {
   "display_name": "Python 3 (ipykernel)",
   "language": "python",
   "name": "python3"
  },
  "language_info": {
   "codemirror_mode": {
    "name": "ipython",
    "version": 3
   },
   "file_extension": ".py",
   "mimetype": "text/x-python",
   "name": "python",
   "nbconvert_exporter": "python",
   "pygments_lexer": "ipython3",
   "version": "3.11.5"
  }
 },
 "nbformat": 4,
 "nbformat_minor": 5
}
